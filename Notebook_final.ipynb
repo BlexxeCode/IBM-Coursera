{
 "cells": [
  {
   "cell_type": "markdown",
   "id": "4ee23a97-4eaf-4581-888b-3f255ea78175",
   "metadata": {},
   "source": [
    "# My Jupyter Notebook on Watson Studio"
   ]
  },
  {
   "cell_type": "markdown",
   "id": "d7b5caf6-272d-42d1-bbad-18df6bb5771d",
   "metadata": {},
   "source": [
    "**Andrew Saint-Vil**\n",
    "<br>\n",
    "Data Scientist"
   ]
  },
  {
   "cell_type": "markdown",
   "id": "20f82426-7c58-49a9-bd1d-56b5f797fd28",
   "metadata": {},
   "source": [
    "*I am interested in data science because of my overall interest of how the information found in data can have such a large effect on how many companies operate. Because of the many ways data is extracted and analyzed, people can discover new information or find new correlations between two or more categories that were never known before, which is something a find truly interesting to me.*"
   ]
  },
  {
   "cell_type": "markdown",
   "id": "43668743-7e02-4683-8ed0-19892f084722",
   "metadata": {},
   "source": [
    "### In the code below, a simple PEMDAS operation will be executed. There are two number in the parenthesis and one number outside of it. By the order of PEMDAS, the operation in the parenthesis will be done first, followed by the addition on the number outside. "
   ]
  },
  {
   "cell_type": "code",
   "execution_count": 2,
   "id": "c616e6a6-25d3-4e26-8142-3cca7c51fda7",
   "metadata": {},
   "outputs": [
    {
     "data": {
      "text/plain": [
       "5"
      ]
     },
     "execution_count": 2,
     "metadata": {},
     "output_type": "execute_result"
    }
   ],
   "source": [
    "1+(2*2)"
   ]
  },
  {
   "cell_type": "markdown",
   "id": "e0d0f410-e740-4a40-81f6-190e253d8341",
   "metadata": {},
   "source": [
    "*  2 x 2\n",
    "* 4 + 1\n",
    "* answer\n",
    "\n",
    "1. Take online classes\n",
    "2. Learn data science\n",
    "3. Profit!\n",
    "\n",
    "![Profit](https://media.makeameme.org/created/profit-34d7b31a4f.jpg)"
   ]
  },
  {
   "cell_type": "code",
   "execution_count": null,
   "id": "8d540d54-fa06-47b2-a090-a4bbab263428",
   "metadata": {},
   "outputs": [],
   "source": []
  }
 ],
 "metadata": {
  "kernelspec": {
   "display_name": "Python",
   "language": "python",
   "name": "conda-env-python-py"
  },
  "language_info": {
   "codemirror_mode": {
    "name": "ipython",
    "version": 3
   },
   "file_extension": ".py",
   "mimetype": "text/x-python",
   "name": "python",
   "nbconvert_exporter": "python",
   "pygments_lexer": "ipython3",
   "version": "3.7.12"
  }
 },
 "nbformat": 4,
 "nbformat_minor": 5
}
